{
 "cells": [
  {
   "cell_type": "code",
   "execution_count": 7,
   "metadata": {},
   "outputs": [],
   "source": [
    "from flask import Flask, render_template, request\n",
    "import numpy as np\n",
    "import pandas as pd\n",
    "import matplotlib.pyplot as plt\n",
    "import os, re, joblib\n",
    "from tensorflow.keras.preprocessing.sequence import pad_sequences\n",
    "from tensorflow.keras.models import load_model\n",
    "from konlpy.tag import Mecab"
   ]
  },
  {
   "cell_type": "code",
   "execution_count": 8,
   "metadata": {},
   "outputs": [
    {
     "ename": "TypeError",
     "evalue": "morphs() got an unexpected keyword argument 'stem'",
     "output_type": "error",
     "traceback": [
      "\u001b[0;31m---------------------------------------------------------------------------\u001b[0m",
      "\u001b[0;31mTypeError\u001b[0m                                 Traceback (most recent call last)",
      "\u001b[1;32m/Users/wondongchan/Desktop/multi/AIServiceWeb/test.ipynb Cell 2'\u001b[0m in \u001b[0;36m<cell line: 10>\u001b[0;34m()\u001b[0m\n\u001b[1;32m      <a href='vscode-notebook-cell:/Users/wondongchan/Desktop/multi/AIServiceWeb/test.ipynb#ch0000001?line=6'>7</a>\u001b[0m model \u001b[39m=\u001b[39m load_model(\u001b[39m'\u001b[39m\u001b[39mstatic/model/BiLSTM_LSTM.h5\u001b[39m\u001b[39m'\u001b[39m)\n\u001b[1;32m      <a href='vscode-notebook-cell:/Users/wondongchan/Desktop/multi/AIServiceWeb/test.ipynb#ch0000001?line=8'>9</a>\u001b[0m sentence \u001b[39m=\u001b[39m re\u001b[39m.\u001b[39msub(\u001b[39m'\u001b[39m\u001b[39m[^ㄱ-ㅎㅏ-ㅣ가-힣 ]\u001b[39m\u001b[39m'\u001b[39m, \u001b[39m'\u001b[39m\u001b[39m'\u001b[39m, sentence)\n\u001b[0;32m---> <a href='vscode-notebook-cell:/Users/wondongchan/Desktop/multi/AIServiceWeb/test.ipynb#ch0000001?line=9'>10</a>\u001b[0m morphs \u001b[39m=\u001b[39m mecab\u001b[39m.\u001b[39;49mmorphs(sentence, stem\u001b[39m=\u001b[39;49m\u001b[39mTrue\u001b[39;49;00m)\n\u001b[1;32m     <a href='vscode-notebook-cell:/Users/wondongchan/Desktop/multi/AIServiceWeb/test.ipynb#ch0000001?line=10'>11</a>\u001b[0m morphs \u001b[39m=\u001b[39m [word \u001b[39mfor\u001b[39;00m word \u001b[39min\u001b[39;00m morphs \u001b[39mif\u001b[39;00m word \u001b[39mnot\u001b[39;00m \u001b[39min\u001b[39;00m stopwords]\n\u001b[1;32m     <a href='vscode-notebook-cell:/Users/wondongchan/Desktop/multi/AIServiceWeb/test.ipynb#ch0000001?line=11'>12</a>\u001b[0m encoded \u001b[39m=\u001b[39m t\u001b[39m.\u001b[39mtexts_to_sequences([morphs])\n",
      "\u001b[0;31mTypeError\u001b[0m: morphs() got an unexpected keyword argument 'stem'"
     ]
    }
   ],
   "source": [
    "sentence = '게이 극혐'\n",
    "mecab = Mecab()\n",
    "columns = ['여성/가족', '남성', '성소수자', '인종/국적', '연령', '지역', '종교', '기타 혐오', '악플/욕설', 'clean', '분쟁유발']\n",
    "stopwords = ['의','가','이','은','들','는','좀','잘','걍','과','도','를','으로','자','에','와','한','하다','을','ㅋㅋ','ㅠㅠ','ㅎㅎ']\n",
    "t = joblib.load('static/model/tokenizer.pkl')\n",
    "max_len = 70\n",
    "model = load_model('static/model/BiLSTM_LSTM.h5')\n",
    "\n",
    "sentence = re.sub('[^ㄱ-ㅎㅏ-ㅣ가-힣 ]', '', sentence)\n",
    "morphs = mecab.morphs(sentence)\n",
    "morphs = [word for word in morphs if word not in stopwords]\n",
    "encoded = t.texts_to_sequences([morphs])\n",
    "padded = pad_sequences(encoded, maxlen=max_len)\n",
    "score = model.predict(padded)\n",
    "max = 0\n",
    "for i in range(len(score[0])):\n",
    "    if score[0][i] >= score[0][max]:\n",
    "        max = i\n",
    "    else:\n",
    "        continue\n",
    "print(f'{score[0][max]*100}%의 확률로 {columns[max]}에 관한 댓글입니다.')"
   ]
  },
  {
   "cell_type": "code",
   "execution_count": 6,
   "metadata": {},
   "outputs": [
    {
     "data": {
      "text/plain": [
       "array([3.5143886e-03, 3.5888064e-03, 4.3903993e-04, 2.0750621e-03,\n",
       "       1.1873018e-03, 9.2312489e-03, 9.1807439e-04, 1.9166347e-03,\n",
       "       1.2124028e-01, 8.5536379e-01, 5.2543893e-04], dtype=float32)"
      ]
     },
     "execution_count": 6,
     "metadata": {},
     "output_type": "execute_result"
    }
   ],
   "source": [
    "score[0]"
   ]
  },
  {
   "cell_type": "code",
   "execution_count": 10,
   "metadata": {},
   "outputs": [
    {
     "name": "stdout",
     "output_type": "stream",
     "text": [
      "Model: \"sequential_3\"\n",
      "_________________________________________________________________\n",
      " Layer (type)                Output Shape              Param #   \n",
      "=================================================================\n",
      " embedding_3 (Embedding)     (None, 30, 128)           1943424   \n",
      "                                                                 \n",
      " bidirectional (Bidirectiona  (None, 30, 256)          263168    \n",
      " l)                                                              \n",
      "                                                                 \n",
      " global_max_pooling1d (Globa  (None, 256)              0         \n",
      " lMaxPooling1D)                                                  \n",
      "                                                                 \n",
      " dense_3 (Dense)             (None, 10)                2570      \n",
      "                                                                 \n",
      "=================================================================\n",
      "Total params: 2,209,162\n",
      "Trainable params: 2,209,162\n",
      "Non-trainable params: 0\n",
      "_________________________________________________________________\n"
     ]
    }
   ],
   "source": [
    "model.summary()"
   ]
  },
  {
   "cell_type": "code",
   "execution_count": 47,
   "metadata": {},
   "outputs": [
    {
     "name": "stdout",
     "output_type": "stream",
     "text": [
      "0 0.010739244\n",
      "1 0.059699323\n",
      "2 0.7893477\n",
      "0.7893477\n"
     ]
    }
   ],
   "source": [
    "max = 0\n",
    "for i in range(len(score[0])):\n",
    "    if score[0][i] >= score[0][max]:\n",
    "        print(i, score[0][i])\n",
    "        max = i\n",
    "print(score[0][max])\n"
   ]
  },
  {
   "cell_type": "code",
   "execution_count": 19,
   "metadata": {},
   "outputs": [],
   "source": [
    "import matplotlib\n",
    "matplotlib.use('Agg')\n",
    "import matplotlib.pyplot as plt\n",
    "import numpy as np\n",
    "import pandas as pd\n",
    "import platform\n",
    "\n",
    "def draw_graph(score):\n",
    "\n",
    "\n",
    "    if platform.system() == \"Darwin\":  # 맥\n",
    "        plt.rc('font', family='AppleGothic')\n",
    "    elif platform.system() == \"Windows\":  # 윈도우\n",
    "        plt.rc('font', family='Malgun Gothic')\n",
    "    elif platform.system() == \"Linux\":  # 리눅스 = 코랩\n",
    "        plt.rc('font', family='Malgun Gothic')\n",
    "\n",
    "    columns = ['여성/가족', '남성', '성소수자', '인종/국적', '연령', '지역', '종교', '기타 혐오', '악플/욕설', 'clean', '분쟁유발']\n",
    "\n",
    "    matplotlib.rcParams['axes.unicode_minus'] = False\n",
    "    lst = []\n",
    "    for element in score:\n",
    "        lst += element\n",
    "    x = np.arange(len(lst))\n",
    "    plt.figure(figsize=(12, 3))\n",
    "    plt.rc('font', size = 6)\n",
    "    plt.plot(x)\n",
    "    plt.xticks(x, columns, rotation = 90)\n",
    "    plt.xlabel('유형')\n",
    "    plt.ylabel('확률')\n",
    "    plt.legend()\n",
    "    plt.show('static/img/comment_graph.png', bbox_inches='tight')\n",
    "    plt.close()\n",
    "    "
   ]
  },
  {
   "cell_type": "code",
   "execution_count": 30,
   "metadata": {},
   "outputs": [
    {
     "data": {
      "text/plain": [
       "[0.00028194074,\n",
       " 1.7018077e-05,\n",
       " 2.364712e-05,\n",
       " 9.915189e-05,\n",
       " 0.9926042,\n",
       " 0.00031048697,\n",
       " 1.740413e-05,\n",
       " 4.8538608e-05,\n",
       " 0.00600314,\n",
       " 1.0080473e-05,\n",
       " 0.00058439985]"
      ]
     },
     "execution_count": 30,
     "metadata": {},
     "output_type": "execute_result"
    }
   ],
   "source": [
    "lst = []\n",
    "for element in score[0]:\n",
    "        lst.append(element)\n",
    "lst"
   ]
  },
  {
   "cell_type": "code",
   "execution_count": 16,
   "metadata": {},
   "outputs": [
    {
     "name": "stderr",
     "output_type": "stream",
     "text": [
      "No artists with labels found to put in legend.  Note that artists whose label start with an underscore are ignored when legend() is called with no argument.\n"
     ]
    },
    {
     "data": {
      "image/png": "[encoded data removed]",
      "text/plain": [
       "<Figure size 1728x432 with 1 Axes>"
      ]
     },
     "metadata": {
      "needs_background": "light"
     },
     "output_type": "display_data"
    }
   ],
   "source": [
    "import matplotlib\n",
    "import matplotlib.pyplot as plt\n",
    "import numpy as np\n",
    "import pandas as pd\n",
    "import platform\n",
    "\n",
    "if platform.system() == \"Darwin\":  # 맥\n",
    "        plt.rc('font', family='AppleGothic')\n",
    "elif platform.system() == \"Windows\":  # 윈도우\n",
    "        plt.rc('font', family='Malgun Gothic')\n",
    "elif platform.system() == \"Linux\":  # 리눅스 = 코랩\n",
    "        plt.rc('font', family='Malgun Gothic')\n",
    "\n",
    "lst = []\n",
    "for element in score[0]:\n",
    "        lst.append(element*100)\n",
    "\n",
    "x = np.arange(len(lst))\n",
    "plt.figure(figsize=(24, 6))\n",
    "plt.bar(x, lst)\n",
    "plt.xticks(x, columns)\n",
    "plt.rc('font', size = 15)\n",
    "\n",
    "# plt.xticks(x, columns, rotation = 90)\n",
    "plt.xlabel('유형')\n",
    "plt.ylabel('확률')\n",
    "plt.legend()\n",
    "plt.show()\n",
    "plt.close()"
   ]
  },
  {
   "cell_type": "code",
   "execution_count": null,
   "metadata": {},
   "outputs": [],
   "source": []
  }
 ],
 "metadata": {
  "interpreter": {
   "hash": "c30a374dc3544837fc911f7c0b3ae456a317ea7f3e663f35a3dd2f13c77dd4db"
  },
  "kernelspec": {
   "display_name": "Python 3.9.7 ('kdig')",
   "language": "python",
   "name": "python3"
  },
  "language_info": {
   "codemirror_mode": {
    "name": "ipython",
    "version": 3
   },
   "file_extension": ".py",
   "mimetype": "text/x-python",
   "name": "python",
   "nbconvert_exporter": "python",
   "pygments_lexer": "ipython3",
   "version": "3.9.7"
  },
  "orig_nbformat": 4
 },
 "nbformat": 4,
 "nbformat_minor": 2
}
